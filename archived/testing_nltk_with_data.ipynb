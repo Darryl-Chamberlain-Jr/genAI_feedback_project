{
 "cells": [
  {
   "cell_type": "code",
   "execution_count": null,
   "metadata": {},
   "outputs": [],
   "source": [
    "import nltk\n",
    "import pandas as pd\n",
    "import numpy as np"
   ]
  },
  {
   "cell_type": "code",
   "execution_count": 3,
   "metadata": {},
   "outputs": [],
   "source": [
    "data_df = pd.read_excel('combined_responses_scores_added.xlsx', index_col=0)"
   ]
  },
  {
   "cell_type": "code",
   "execution_count": 15,
   "metadata": {},
   "outputs": [],
   "source": [
    "test_string = data_df.iloc[0,1]"
   ]
  },
  {
   "cell_type": "code",
   "execution_count": 16,
   "metadata": {},
   "outputs": [
    {
     "data": {
      "text/plain": [
       "\" Overall Numerical Score: 15   Feedback:   Response Quality (7/30): Inadequate       The initial post lacks depth and detail, providing only a general overview of the ethical issues related to risk communication during the COVID-19 crisis.     The student briefly mentions the BP oil spill but fails to delve into specific instances of ethical/legal responsibilities being broken in the context of the chosen crisis.     The discussion on the short and long-term effects is somewhat superficial and could benefit from more analysis and critical thinking.     The suggestions for mitigating future situations are limited and lack elaboration.   Engagement with Others (20/30): Competent       The student acknowledges the class leader but fails to engage deeply with the content or provide substantive responses to peers.     While the student responds to a peer's feedback, the response is generic and does not contribute significantly to the discussion.   Verbal And Written Communication (17/20): Competent       The writing is generally clear and organized, but there are instances of grammatical errors and awkward phrasing.     The student references sources but could benefit from integrating these citations more seamlessly into the discussion.   Timeliness of Participation (12/20): Inadequate       The initial post is made on the fourth day of the module week, which may limit the opportunity for meaningful interaction with peers.     While there are responses to peers, they are made on the second day, leaving limited time for further engagement.   Overall Comments: [name], your post provides a basic overview of the ethical issues related to risk communication during the COVID-19 crisis, but it lacks depth and specific examples. To improve, consider exploring more instances where ethical and legal responsibilities were compromised. Additionally, engage more deeply with your peers by providing constructive feedback and asking questions. Ensure that your posts are timely to allow for meaningful interaction throughout the module. Keep up the effort, and consider incorporating more critical analysis and examples to enhance the quality of your contributions.  \""
      ]
     },
     "execution_count": 16,
     "metadata": {},
     "output_type": "execute_result"
    }
   ],
   "source": [
    "test_string"
   ]
  },
  {
   "cell_type": "code",
   "execution_count": null,
   "metadata": {},
   "outputs": [],
   "source": []
  }
 ],
 "metadata": {
  "kernelspec": {
   "display_name": "Python 3",
   "language": "python",
   "name": "python3"
  },
  "language_info": {
   "codemirror_mode": {
    "name": "ipython",
    "version": 3
   },
   "file_extension": ".py",
   "mimetype": "text/x-python",
   "name": "python",
   "nbconvert_exporter": "python",
   "pygments_lexer": "ipython3",
   "version": "3.12.9"
  }
 },
 "nbformat": 4,
 "nbformat_minor": 2
}

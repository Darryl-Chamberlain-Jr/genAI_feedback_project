{
 "cells": [
  {
   "cell_type": "markdown",
   "metadata": {},
   "source": [
    "# Regression Analysis"
   ]
  },
  {
   "cell_type": "code",
   "execution_count": 2,
   "metadata": {},
   "outputs": [],
   "source": [
    "import pandas as pd\n",
    "import numpy as np\n",
    "import matplotlib.pyplot as plt\n",
    "from sklearn.linear_model import LinearRegression\n",
    "from sklearn.linear_model import Lasso\n",
    "from sklearn.linear_model import Ridge\n",
    "from sklearn.metrics import r2_score\n",
    "from sklearn.model_selection import cross_val_score, train_test_split"
   ]
  },
  {
   "cell_type": "markdown",
   "metadata": {},
   "source": [
    "## Prepare Data"
   ]
  },
  {
   "cell_type": "code",
   "execution_count": 3,
   "metadata": {},
   "outputs": [],
   "source": [
    "def reconcile_filename_column(df):\n",
    "    if 'filename' in df.keys():\n",
    "        df.rename(columns={'filename': 'Filename'}, inplace=True)\n",
    "    return df\n",
    "\n",
    "def drop_txt(txt):\n",
    "    if type(txt) == type(2):\n",
    "        return txt\n",
    "    else:\n",
    "        return(txt.replace('.txt', ''))\n",
    "\n",
    "def combine_psuedos_with_scores(df, scores_df):\n",
    "    df = reconcile_filename_column(df)\n",
    "    df['Filename'] = df['Filename'].apply(drop_txt).astype('int')\n",
    "    scores_df['Psuedos'] = scores_df['Psuedos'].astype('int')\n",
    "\n",
    "    combined_df = df.merge(scores_df, how='right', left_on='Filename', right_on='Psuedos')\n",
    "    combined_df = combined_df.dropna()\n",
    "    return combined_df\n",
    "\n",
    "def create_X_y(df, scores_df):\n",
    "    combined_df = combine_psuedos_with_scores(df, scores_df)\n",
    "\n",
    "    response_var = combined_df['ChatGPT Percent Score']\n",
    "    combined_df.drop(['Filename', 'Psuedos', 'ChatGPT Percent Score', 'Response Word Count'], axis=1, inplace=True)\n",
    "    predictor_vars = combined_df\n",
    "\n",
    "    return {'X': predictor_vars, \n",
    "            'y': response_var\n",
    "    }\n",
    "\n",
    "def fit_and_predict(reg, X_train, X_test, y_train, y_test):\n",
    "    reg.fit(X_train, y_train)\n",
    "    predictions = reg.predict(X_test)\n",
    "    reg_r2 = r2_score(y_test, predictions)\n",
    "    return [reg, reg_r2]\n",
    "\n",
    "def run_train_test_regression(df_dict, scores_df):\n",
    "    df_name = df_dict['name']\n",
    "    try:\n",
    "        predictor_vars = df_dict['X']\n",
    "        response_var = df_dict['y']\n",
    "    except:\n",
    "        dict_of_info = create_X_y(df_dict['df'], scores_df)\n",
    "        predictor_vars = dict_of_info['X']\n",
    "        response_var = dict_of_info['y']\n",
    "\n",
    "    X_train, X_test, y_train, y_test = train_test_split(predictor_vars, response_var, test_size=0.2)\n",
    "\n",
    "    lin_reg, lin_reg_r2 = fit_and_predict(LinearRegression(), X_train, X_test, y_train, y_test)\n",
    "    lasso_reg, lasso_reg_r2 = fit_and_predict(Lasso(), X_train, X_test, y_train, y_test)\n",
    "    ridge_reg, ridge_reg_r2 = fit_and_predict(Ridge(), X_train, X_test, y_train, y_test)\n",
    "\n",
    "    return {'name': df_name,\n",
    "            'response_var': response_var, \n",
    "            'predictor_vars': predictor_vars, \n",
    "            'linear_reg_r2': round(lin_reg_r2, 3), \n",
    "            'lasso_reg_r2': round(lasso_reg_r2, 3),\n",
    "            'ridge_reg_r2': round(ridge_reg_r2, 3)\n",
    "            }\n",
    "\n",
    "def run_cross_val_regression(df_dict, scores_df):\n",
    "    df_name = df_dict['name']\n",
    "    try:\n",
    "        predictor_vars = df_dict['X']\n",
    "        response_var = df_dict['y']\n",
    "    except:\n",
    "        dict_of_info = create_X_y(df_dict['df'], scores_df)\n",
    "        predictor_vars = dict_of_info['X']\n",
    "        response_var = dict_of_info['y']\n",
    "\n",
    "    lin_cross_val_score = cross_val_score(LinearRegression(), predictor_vars, response_var, cv=5, scoring='r2')\n",
    "    lasso_cross_val_score = cross_val_score(Lasso(), predictor_vars, response_var, cv=5, scoring='r2')\n",
    "    ridge_cross_val_score = cross_val_score(Ridge(alpha=0.5), predictor_vars, response_var, cv=5, scoring='r2')\n",
    "\n",
    "    return {'name': df_name,\n",
    "            'response_var': response_var, \n",
    "            'predictor_vars': predictor_vars, \n",
    "            'linear_reg_r2': round(lin_cross_val_score.mean(), 3), \n",
    "            'lasso_reg_r2': round(lasso_cross_val_score.mean(), 3),\n",
    "            'ridge_reg_r2': round(ridge_cross_val_score.mean(), 3)\n",
    "            }\n",
    "\n",
    "def print_reg_results(dict_of_results):\n",
    "    print(f'{dict_of_results[\"name\"]}')\n",
    "    print(f'Linear R2: {dict_of_results[\"linear_reg_r2\"]}')\n",
    "    print(f'Lasso R2: {dict_of_results[\"lasso_reg_r2\"]}')\n",
    "    print(f'Ridge R2: {dict_of_results[\"ridge_reg_r2\"]}')\n",
    "    print()"
   ]
  },
  {
   "cell_type": "markdown",
   "metadata": {},
   "source": [
    "## Run initial regression analysis"
   ]
  },
  {
   "cell_type": "code",
   "execution_count": 4,
   "metadata": {},
   "outputs": [],
   "source": [
    "def load_dfs(math=None):\n",
    "    scores_df = pd.read_excel('combined_responses_scores_added.xlsx', index_col=0)\n",
    "    scores_df = scores_df[['Psuedos', 'ChatGPT Percent Score', 'Response Word Count', 'Course']]\n",
    "    if math == None:\n",
    "        scores_df = scores_df[scores_df['Course'] != 'MATH 111']\n",
    "    \n",
    "    scores_df = scores_df.drop(['Course'], axis=1)\n",
    "\n",
    "    list_of_df_dicts = []\n",
    "\n",
    "    for pred_name in ['taaco', 'taaled', 'taales', 'taassc']:\n",
    "        temp_df = pd.read_csv(f'./predictor_results/{pred_name}_results.csv')\n",
    "\n",
    "        temp_X_y_dict = create_X_y(temp_df, scores_df)\n",
    "        temp_df_dict = {\n",
    "            'name': pred_name, \n",
    "            'df': temp_df, \n",
    "            'X': temp_X_y_dict['X'], \n",
    "            'y': temp_X_y_dict['y']\n",
    "        }\n",
    "        list_of_df_dicts.append(temp_df_dict)\n",
    "    return [list_of_df_dicts, scores_df]"
   ]
  },
  {
   "cell_type": "code",
   "execution_count": 4,
   "metadata": {},
   "outputs": [
    {
     "name": "stdout",
     "output_type": "stream",
     "text": [
      "taaco\n",
      "Linear R2: -0.133\n",
      "Lasso R2: -0.015\n",
      "Ridge R2: 0.113\n",
      "\n",
      "taaled\n",
      "Linear R2: -0.197\n",
      "Lasso R2: -0.019\n",
      "Ridge R2: -0.08\n",
      "\n",
      "taales\n",
      "Linear R2: -6.274\n",
      "Lasso R2: 0.201\n",
      "Ridge R2: -0.563\n",
      "\n",
      "taassc\n",
      "Linear R2: -3.377\n",
      "Lasso R2: -0.033\n",
      "Ridge R2: -0.766\n",
      "\n"
     ]
    },
    {
     "name": "stderr",
     "output_type": "stream",
     "text": [
      "C:\\Users\\dcham\\AppData\\Local\\Packages\\PythonSoftwareFoundation.Python.3.12_qbz5n2kfra8p0\\LocalCache\\local-packages\\Python312\\site-packages\\sklearn\\linear_model\\_coordinate_descent.py:697: ConvergenceWarning: Objective did not converge. You might want to increase the number of iterations, check the scale of the features or consider increasing regularisation. Duality gap: 3.278e-02, tolerance: 1.154e-04\n",
      "  model = cd_fast.enet_coordinate_descent(\n",
      "C:\\Users\\dcham\\AppData\\Local\\Packages\\PythonSoftwareFoundation.Python.3.12_qbz5n2kfra8p0\\LocalCache\\local-packages\\Python312\\site-packages\\sklearn\\linear_model\\_coordinate_descent.py:697: ConvergenceWarning: Objective did not converge. You might want to increase the number of iterations, check the scale of the features or consider increasing regularisation. Duality gap: 3.729e-01, tolerance: 1.151e-04\n",
      "  model = cd_fast.enet_coordinate_descent(\n"
     ]
    }
   ],
   "source": [
    "list_of_df_dicts, scores_df = load_dfs()\n",
    "\n",
    "list_of_regression_dicts = []\n",
    "\n",
    "for df_dict in list_of_df_dicts:\n",
    "    regression_dict = run_train_test_regression(df_dict, scores_df)\n",
    "    list_of_regression_dicts.append(regression_dict)\n",
    "\n",
    "for reg_dict in list_of_regression_dicts:\n",
    "    print_reg_results(reg_dict)"
   ]
  },
  {
   "cell_type": "markdown",
   "metadata": {},
   "source": [
    "## PCA to reduce dimensionality"
   ]
  },
  {
   "cell_type": "code",
   "execution_count": 5,
   "metadata": {},
   "outputs": [
    {
     "name": "stdout",
     "output_type": "stream",
     "text": [
      "taaco\n",
      "Linear R2: -0.125\n",
      "Lasso R2: -0.076\n",
      "Ridge R2: -0.11\n",
      "\n",
      "taaled\n",
      "Linear R2: -0.157\n",
      "Lasso R2: -0.08\n",
      "Ridge R2: -0.157\n",
      "\n",
      "taales\n",
      "Linear R2: -0.189\n",
      "Lasso R2: -0.189\n",
      "Ridge R2: -0.189\n",
      "\n",
      "taassc\n",
      "Linear R2: -0.078\n",
      "Lasso R2: -0.078\n",
      "Ridge R2: -0.078\n",
      "\n"
     ]
    }
   ],
   "source": [
    "from sklearn.decomposition import PCA\n",
    "\n",
    "def perform_pca(df_dict, n_components):\n",
    "    pca = PCA(n_components=n_components, svd_solver='full')\n",
    "    new_X = pca.fit(df_dict['X']).transform(df_dict['X'])\n",
    "    df_dict['full_X'] = df_dict['X']\n",
    "    df_dict['X'] = new_X\n",
    "    return df_dict\n",
    "\n",
    "list_of_df_dicts, scores_df = load_dfs()\n",
    "\n",
    "pca_reg_list = []\n",
    "\n",
    "for df_dict in list_of_df_dicts:\n",
    "    df_dict = perform_pca(df_dict, 3)\n",
    "    regression_dict = run_cross_val_regression(df_dict, scores_df)\n",
    "    pca_reg_list.append(regression_dict)\n",
    "\n",
    "for reg_dict in pca_reg_list:\n",
    "    print_reg_results(reg_dict)"
   ]
  },
  {
   "cell_type": "markdown",
   "metadata": {},
   "source": [
    "## Final Combo try"
   ]
  },
  {
   "cell_type": "code",
   "execution_count": 6,
   "metadata": {},
   "outputs": [
    {
     "name": "stdout",
     "output_type": "stream",
     "text": [
      "combo predictors\n",
      "Linear R2: -0.083\n",
      "Lasso R2: -0.074\n",
      "Ridge R2: -0.083\n",
      "\n"
     ]
    }
   ],
   "source": [
    "list_of_df_dicts, scores_df = load_dfs()\n",
    "\n",
    "new_list = []\n",
    "for df_dict in list_of_df_dicts:\n",
    "    df_dict = perform_pca(df_dict, 3)\n",
    "    new_list.append(df_dict)\n",
    "\n",
    "word_count_series = combine_psuedos_with_scores(new_list[0]['df'], scores_df)[['Response Word Count']].reset_index()\n",
    "\n",
    "pca_1 = pd.DataFrame(new_list[2]['X'], columns=['pca_1_v0', 'pca_1_v1', 'pca_1_v2'])\n",
    "pca_2 = pd.DataFrame(new_list[3]['X'], columns=['pca_2_v0', 'pca_2_v1', 'pca_2_v2'])\n",
    "\n",
    "combo_df = pca_1.join(pca_2, how='inner')\n",
    "\n",
    "combo_df = combo_df.join(word_count_series, how='inner')\n",
    "\n",
    "combo_df_dict = {\n",
    "    'name': 'combo predictors',\n",
    "    'X': combo_df, \n",
    "    'y': new_list[0]['y']\n",
    "}\n",
    "\n",
    "combo_reg_dict = run_cross_val_regression(combo_df_dict, scores_df)\n",
    "print_reg_results(combo_reg_dict)"
   ]
  },
  {
   "cell_type": "markdown",
   "metadata": {},
   "source": [
    "## Factor Analysis to overcome poor linear regression"
   ]
  },
  {
   "cell_type": "code",
   "execution_count": 7,
   "metadata": {},
   "outputs": [],
   "source": [
    "def factor_analysis_basic_results(df, df_name):\n",
    "    # Step 1: Adequecy Test\n",
    "    from factor_analyzer import FactorAnalyzer\n",
    "    from factor_analyzer.factor_analyzer import calculate_bartlett_sphericity\n",
    "    chi_square_value,p_value=calculate_bartlett_sphericity(df)\n",
    "    chi_square_value, p_value\n",
    "\n",
    "    #p-value 0, so observed correlation matrix is not identity\n",
    "\n",
    "    if p_value < 0.01:\n",
    "        print(f\"Bartlett's test of sphericity suggests the observed correlation matrix is not an identity matrix (p-value={round(p_value, 4)}).\")\n",
    "        from factor_analyzer.factor_analyzer import calculate_kmo\n",
    "        kmo_all,kmo_model=calculate_kmo(df)\n",
    "        if kmo_model > 0.6:\n",
    "            print(f'KMO Test suggests factor analysis is appropriate (KMO={round(kmo_model, 2)}).')\n",
    "            print('\\nFactor Analysis is appropriate with this data.\\n')\n",
    "        else:\n",
    "            print(f'KMO Test suggests factor analysis is not appropriate (KMO={round(kmo_model, 2)}).')\n",
    "            print('\\nFactor Analysis is not appropriate with this data.\\n')\n",
    "    else:\n",
    "        print(f\"Observed correlation matrix is potentially an identity matrix and thus no factor analysis should be performed.\")\n",
    "\n",
    "    # Step 2: Calculate Number of Factors\n",
    "    fa = FactorAnalyzer()\n",
    "    fa.fit(df)\n",
    "    ev, v = fa.get_eigenvalues()\n",
    "    n_factors = len(np.where(ev > 1)[0])\n",
    "    print(ev)\n",
    "    print(f'Suggested number of factors: {n_factors}')\n",
    "    \n",
    "    # Create scree plot using matplotlib\n",
    "    plt.scatter(range(1,df.shape[1]+1),ev)\n",
    "    plt.plot(range(1,df.shape[1]+1),ev)\n",
    "    plt.title('Scree Plot')\n",
    "    plt.xlabel('Factors')\n",
    "    plt.ylabel('Eigenvalue')\n",
    "    plt.grid()\n",
    "    plt.show()\n",
    "\n",
    "    # Step 2.5: Different Analysis than Suggested Factor?\n",
    "    #force_n_factors = int(input('What number of factors do you want to calculate the loading matrix for?'))\n",
    "\n",
    "    # Step 3: Create Factor Loading Matrix\n",
    "    fa.set_params(n_factors=n_factors, rotation='promax')\n",
    "    fa.fit(df)\n",
    "    loadings = fa.loadings_\n",
    "    loading_df = pd.DataFrame(loadings).round(4)\n",
    "    for col_name in loading_df.columns:    \n",
    "        loading_df[col_name] = np.where(loading_df[col_name] < 0.4, '', loading_df[col_name])\n",
    "    loading_df['variables'] = df.columns\n",
    "    loading_df.set_index('variables', drop=True, inplace=True)\n",
    "    loading_df.to_excel(f'loadings_{df_name}.xlsx')\n",
    "\n",
    "    # Step 4: Total Variance Explained by Factors\n",
    "    fa.get_factor_variance()\n",
    "    # Sum of second row is total % cumulative variance explained by the N factors\n",
    "    total_variance_explained = fa.get_factor_variance()[1].sum()\n",
    "    print(f'\\n{int(round(total_variance_explained*100, 0))}% cumulative variance explained by the {n_factors} factors')"
   ]
  },
  {
   "cell_type": "code",
   "execution_count": 8,
   "metadata": {},
   "outputs": [
    {
     "name": "stdout",
     "output_type": "stream",
     "text": [
      "Observed correlation matrix is potentially an identity matrix and thus no factor analysis should be performed.\n",
      "[ 8.27089657e+00  6.69709335e+00  1.56060359e+00  6.88765091e-01\n",
      "  2.24376816e-01  1.79404219e-01  1.39057403e-01  8.01510299e-02\n",
      "  4.30916345e-02  4.06213894e-02  3.00445956e-02  2.67252805e-02\n",
      "  1.53294770e-02  2.86290113e-03  6.54012344e-04  3.22645978e-04\n",
      "  1.52714404e-15 -3.82608186e-16]\n",
      "Suggested number of factors: 3\n"
     ]
    },
    {
     "name": "stderr",
     "output_type": "stream",
     "text": [
      "C:\\Users\\dcham\\AppData\\Local\\Packages\\PythonSoftwareFoundation.Python.3.12_qbz5n2kfra8p0\\LocalCache\\local-packages\\Python312\\site-packages\\factor_analyzer\\factor_analyzer.py:109: RuntimeWarning: invalid value encountered in log\n",
      "  statistic = -np.log(corr_det) * (n - 1 - (2 * p + 5) / 6)\n"
     ]
    },
    {
     "data": {
      "image/png": "[encoded data removed]",
      "text/plain": [
       "<Figure size 640x480 with 1 Axes>"
      ]
     },
     "metadata": {},
     "output_type": "display_data"
    },
    {
     "name": "stdout",
     "output_type": "stream",
     "text": [
      "\n",
      "89% cumulative variance explained by the 3 factors\n"
     ]
    }
   ],
   "source": [
    "list_of_df_dicts, scores_df = load_dfs()\n",
    "\n",
    "temp_reg_dict = list_of_df_dicts[1]\n",
    "factor_analysis_basic_results(temp_reg_dict['X'], temp_reg_dict['name'])"
   ]
  },
  {
   "cell_type": "code",
   "execution_count": 6,
   "metadata": {},
   "outputs": [
    {
     "data": {
      "text/plain": [
       "<matplotlib.collections.PathCollection at 0x207e55a0770>"
      ]
     },
     "execution_count": 6,
     "metadata": {},
     "output_type": "execute_result"
    },
    {
     "data": {
      "image/png": "[encoded data removed]",
      "text/plain": [
       "<Figure size 640x480 with 1 Axes>"
      ]
     },
     "metadata": {},
     "output_type": "display_data"
    }
   ],
   "source": [
    "list_of_df_dicts, scores_df = load_dfs()\n",
    "X = scores_df['Response Word Count']\n",
    "y = scores_df['ChatGPT Percent Score']\n",
    "\n",
    "plt.scatter(X, y)"
   ]
  },
  {
   "cell_type": "code",
   "execution_count": 8,
   "metadata": {},
   "outputs": [
    {
     "data": {
      "text/plain": [
       "(array([ 2.,  2.,  5.,  4.,  6., 19., 29., 36., 36., 19.]),\n",
       " array([0.52 , 0.568, 0.616, 0.664, 0.712, 0.76 , 0.808, 0.856, 0.904,\n",
       "        0.952, 1.   ]),\n",
       " <BarContainer object of 10 artists>)"
      ]
     },
     "execution_count": 8,
     "metadata": {},
     "output_type": "execute_result"
    },
    {
     "data": {
      "image/png": "[encoded data removed]",
      "text/plain": [
       "<Figure size 640x480 with 1 Axes>"
      ]
     },
     "metadata": {},
     "output_type": "display_data"
    }
   ],
   "source": [
    "plt.hist(y)"
   ]
  },
  {
   "cell_type": "code",
   "execution_count": 19,
   "metadata": {},
   "outputs": [
    {
     "name": "stdout",
     "output_type": "stream",
     "text": [
      "Model: linear, Avg Score: -0.09\n",
      "Model: ridge, Avg Score: -0.08\n",
      "Model: lasso, Avg Score: -0.08\n"
     ]
    }
   ],
   "source": [
    "from sklearn.model_selection import cross_val_score\n",
    "\n",
    "def random_half_point():\n",
    "    # randomly return 1, 0.95, 0.9, 0.85, 0.8, 0.75\n",
    "    return np.random.choice([1, 0.95, 0.9, 0.85, 0.8, 0.75])\n",
    "\n",
    "list_of_df_dicts, scores_df = load_dfs()\n",
    "guess_df = scores_df['ChatGPT Percent Score']\n",
    "\n",
    "y = scores_df['ChatGPT Percent Score'].dropna()\n",
    "X = np.array([random_half_point() for index in range(0, len(y))]).reshape(-1,1)\n",
    "\n",
    "model_conversion_dict = {\n",
    "    'linear': LinearRegression(),\n",
    "    'ridge': Ridge(),\n",
    "    'lasso': Lasso()\n",
    "}\n",
    "\n",
    "for model_type in model_conversion_dict.keys():\n",
    "    all_scores = cross_val_score(model_conversion_dict[model_type], X, y, cv=5)\n",
    "    print(f'Model: {model_type}, Avg Score: {round(np.mean(all_scores), 2)}')"
   ]
  },
  {
   "cell_type": "code",
   "execution_count": null,
   "metadata": {},
   "outputs": [
    {
     "data": {
      "text/plain": [
       "[np.float64(1.0),\n",
       " np.float64(0.95),\n",
       " np.float64(0.9),\n",
       " np.float64(0.95),\n",
       " np.float64(0.85),\n",
       " np.float64(0.85),\n",
       " np.float64(0.75),\n",
       " np.float64(0.95),\n",
       " np.float64(1.0),\n",
       " np.float64(1.0),\n",
       " np.float64(0.95),\n",
       " np.float64(0.8),\n",
       " np.float64(0.85),\n",
       " np.float64(1.0),\n",
       " np.float64(0.85),\n",
       " np.float64(0.85),\n",
       " np.float64(0.95),\n",
       " np.float64(0.75),\n",
       " np.float64(0.9),\n",
       " np.float64(0.95),\n",
       " np.float64(0.95),\n",
       " np.float64(0.75),\n",
       " np.float64(0.85),\n",
       " np.float64(0.9),\n",
       " np.float64(0.9),\n",
       " np.float64(0.85),\n",
       " np.float64(1.0),\n",
       " np.float64(0.9),\n",
       " np.float64(0.9),\n",
       " np.float64(0.85),\n",
       " np.float64(0.85),\n",
       " np.float64(0.95),\n",
       " np.float64(0.85),\n",
       " np.float64(0.85),\n",
       " np.float64(0.8),\n",
       " np.float64(1.0),\n",
       " np.float64(0.95),\n",
       " np.float64(1.0),\n",
       " np.float64(0.85),\n",
       " np.float64(0.8),\n",
       " np.float64(0.95),\n",
       " np.float64(1.0),\n",
       " np.float64(0.9),\n",
       " np.float64(1.0),\n",
       " np.float64(0.75),\n",
       " np.float64(1.0),\n",
       " np.float64(0.85),\n",
       " np.float64(0.95),\n",
       " np.float64(0.85),\n",
       " np.float64(0.9),\n",
       " np.float64(0.85),\n",
       " np.float64(0.85),\n",
       " np.float64(0.8),\n",
       " np.float64(0.8),\n",
       " np.float64(0.9),\n",
       " np.float64(0.95),\n",
       " np.float64(1.0),\n",
       " np.float64(0.8),\n",
       " np.float64(0.75),\n",
       " np.float64(0.85),\n",
       " np.float64(0.9),\n",
       " np.float64(0.95),\n",
       " np.float64(0.75),\n",
       " np.float64(0.9),\n",
       " np.float64(0.8),\n",
       " np.float64(0.75),\n",
       " np.float64(0.75),\n",
       " np.float64(0.8),\n",
       " np.float64(0.9),\n",
       " np.float64(0.95),\n",
       " np.float64(0.75),\n",
       " np.float64(0.75),\n",
       " np.float64(0.75),\n",
       " np.float64(0.85),\n",
       " np.float64(0.85),\n",
       " np.float64(0.8),\n",
       " np.float64(1.0),\n",
       " np.float64(0.85),\n",
       " np.float64(0.9),\n",
       " np.float64(0.85),\n",
       " np.float64(0.85),\n",
       " np.float64(1.0),\n",
       " np.float64(0.8),\n",
       " np.float64(0.75),\n",
       " np.float64(0.9),\n",
       " np.float64(0.85),\n",
       " np.float64(0.8),\n",
       " np.float64(0.85),\n",
       " np.float64(1.0),\n",
       " np.float64(1.0),\n",
       " np.float64(1.0),\n",
       " np.float64(0.75),\n",
       " np.float64(0.75),\n",
       " np.float64(0.85),\n",
       " np.float64(0.75),\n",
       " np.float64(0.75),\n",
       " np.float64(0.75),\n",
       " np.float64(0.75),\n",
       " np.float64(0.85),\n",
       " np.float64(0.8),\n",
       " np.float64(0.8),\n",
       " np.float64(0.95),\n",
       " np.float64(0.8),\n",
       " np.float64(1.0),\n",
       " np.float64(0.75),\n",
       " np.float64(1.0),\n",
       " np.float64(0.8),\n",
       " np.float64(0.8),\n",
       " np.float64(0.9),\n",
       " np.float64(0.75),\n",
       " np.float64(0.9),\n",
       " np.float64(0.85),\n",
       " np.float64(0.9),\n",
       " np.float64(0.75),\n",
       " np.float64(0.9),\n",
       " np.float64(1.0),\n",
       " np.float64(0.85),\n",
       " np.float64(0.8),\n",
       " np.float64(0.9),\n",
       " np.float64(0.85),\n",
       " np.float64(0.9),\n",
       " np.float64(0.75),\n",
       " np.float64(0.95),\n",
       " np.float64(1.0),\n",
       " np.float64(0.75),\n",
       " np.float64(0.75),\n",
       " np.float64(0.75),\n",
       " np.float64(0.85),\n",
       " np.float64(0.75),\n",
       " np.float64(0.95),\n",
       " np.float64(0.9),\n",
       " np.float64(0.8),\n",
       " np.float64(0.95),\n",
       " np.float64(0.75),\n",
       " np.float64(1.0),\n",
       " np.float64(0.8),\n",
       " np.float64(1.0),\n",
       " np.float64(0.95),\n",
       " np.float64(0.75),\n",
       " np.float64(0.9),\n",
       " np.float64(0.95),\n",
       " np.float64(0.8),\n",
       " np.float64(0.9),\n",
       " np.float64(0.75),\n",
       " np.float64(0.9),\n",
       " np.float64(0.85),\n",
       " np.float64(1.0),\n",
       " np.float64(0.75),\n",
       " np.float64(0.95),\n",
       " np.float64(0.9),\n",
       " np.float64(0.8),\n",
       " np.float64(0.8),\n",
       " np.float64(0.95),\n",
       " np.float64(0.85),\n",
       " np.float64(0.75),\n",
       " np.float64(1.0),\n",
       " np.float64(0.95),\n",
       " np.float64(0.85),\n",
       " np.float64(0.75),\n",
       " np.float64(0.8),\n",
       " np.float64(0.9),\n",
       " np.float64(0.8)]"
      ]
     },
     "execution_count": 10,
     "metadata": {},
     "output_type": "execute_result"
    }
   ],
   "source": []
  },
  {
   "cell_type": "code",
   "execution_count": null,
   "metadata": {},
   "outputs": [],
   "source": []
  }
 ],
 "metadata": {
  "kernelspec": {
   "display_name": "Python 3",
   "language": "python",
   "name": "python3"
  },
  "language_info": {
   "codemirror_mode": {
    "name": "ipython",
    "version": 3
   },
   "file_extension": ".py",
   "mimetype": "text/x-python",
   "name": "python",
   "nbconvert_exporter": "python",
   "pygments_lexer": "ipython3",
   "version": "3.12.10"
  }
 },
 "nbformat": 4,
 "nbformat_minor": 2
}

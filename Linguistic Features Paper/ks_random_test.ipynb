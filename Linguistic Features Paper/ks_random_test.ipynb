{
 "cells": [
  {
   "cell_type": "code",
   "execution_count": 77,
   "id": "5b043737",
   "metadata": {},
   "outputs": [],
   "source": [
    "import numpy as np\n",
    "import pandas as pd\n",
    "\n",
    "raw_df = pd.read_excel('./data/combined_responses_scores_added.xlsx')\n",
    "gpt_scores = np.array(raw_df['ChatGPT Percent Score'].dropna())"
   ]
  },
  {
   "cell_type": "code",
   "execution_count": 78,
   "id": "88c31015",
   "metadata": {},
   "outputs": [],
   "source": [
    "from scipy import stats\n",
    "\n",
    "kstest_norm_result = stats.kstest(gpt_scores, stats.norm.cdf)"
   ]
  },
  {
   "cell_type": "code",
   "execution_count": 79,
   "id": "e8693527",
   "metadata": {},
   "outputs": [],
   "source": [
    "class skew_norm_gen(stats.rv_continuous):\n",
    "    def _argcheck(self, skew):\n",
    "        return np.isfinite(skew) \n",
    "    \n",
    "    def _pdf(self, x, skew, *args):\n",
    "        return 2 * stats.norm.pdf(x, *args) * stats.norm.cdf(x * skew, *args)\n",
    "    \n",
    "def cap_list_at_one(list):\n",
    "    new_list = []\n",
    "    for item in list:\n",
    "        if item > 1:\n",
    "            new_list.append(1)\n",
    "        else:\n",
    "            new_list.append(item)\n",
    "    return new_list"
   ]
  },
  {
   "cell_type": "code",
   "execution_count": 80,
   "id": "5cbcd60b",
   "metadata": {},
   "outputs": [],
   "source": [
    "skew_norm = skew_norm_gen(name='skew_norm', shapes='skew')\n",
    "\n",
    "gpt_scores_skew = stats.skew(gpt_scores)\n",
    "norm_scores = cap_list_at_one(np.random.normal(loc=np.mean(gpt_scores), scale=np.std(gpt_scores), size=len(gpt_scores)))\n",
    "\n",
    "random_skew_cdf = skew_norm.cdf(norm_scores, skew=gpt_scores_skew)"
   ]
  },
  {
   "cell_type": "code",
   "execution_count": 81,
   "id": "26c9ee3e",
   "metadata": {},
   "outputs": [
    {
     "name": "stdout",
     "output_type": "stream",
     "text": [
      "Mean: 0.8658882235528943\n",
      "StDev: 0.10496851608442723\n",
      "Skew: -1.4827595615782678\n"
     ]
    }
   ],
   "source": [
    "print(f'Mean: {np.mean(gpt_scores)}')\n",
    "print(f'StDev: {np.std(gpt_scores)}')\n",
    "print(f'Skew: {stats.skew(gpt_scores)}')"
   ]
  },
  {
   "cell_type": "code",
   "execution_count": 82,
   "id": "f70f9f32",
   "metadata": {},
   "outputs": [
    {
     "data": {
      "text/plain": [
       "<Axes: xlabel='ChatGPT Assigned Percent Score', ylabel='Count'>"
      ]
     },
     "execution_count": 82,
     "metadata": {},
     "output_type": "execute_result"
    },
    {
     "data": {
      "image/png": "[encoded data removed]",
      "text/plain": [
       "<Figure size 640x480 with 1 Axes>"
      ]
     },
     "metadata": {},
     "output_type": "display_data"
    }
   ],
   "source": [
    "import seaborn as sb\n",
    "scores_df = pd.DataFrame(gpt_scores, columns=['ChatGPT Assigned Percent Score'])\n",
    "sb.histplot(scores_df, x='ChatGPT Assigned Percent Score')"
   ]
  },
  {
   "cell_type": "code",
   "execution_count": 83,
   "id": "5e4cdd48",
   "metadata": {},
   "outputs": [],
   "source": [
    "def create_skewed_cdf(mean, stdev, size, skew):\n",
    "    skew_norm = skew_norm_gen(name='skew_norm', shapes='skew')\n",
    "    norm_scores = cap_list_at_one(np.random.normal(loc=mean, scale=stdev, size=size))\n",
    "    random_skew_cdf = skew_norm.cdf(norm_scores, skew=skew)\n",
    "    return random_skew_cdf"
   ]
  },
  {
   "cell_type": "code",
   "execution_count": 84,
   "id": "86194a82",
   "metadata": {},
   "outputs": [],
   "source": [
    "gpt_scores_skew = stats.skew(gpt_scores)\n",
    "\n",
    "list_of_results = []\n",
    "\n",
    "for mean in np.arange(0.75, 0.95, step=0.01):\n",
    "    for stdev in np.arange(0.05, 0.25, step=0.01):\n",
    "        for skew in np.arange(-2, -1, step=0.02):\n",
    "            temp_skew_cdf = create_skewed_cdf(mean, stdev, len(gpt_scores), skew)\n",
    "            kstest_skew_result = stats.kstest(gpt_scores, temp_skew_cdf)\n",
    "            temp_dict = {\n",
    "                'skew': skew,\n",
    "                'mean': mean, \n",
    "                'stdev': stdev, \n",
    "                'pvalue': kstest_skew_result.pvalue\n",
    "            }\n",
    "            list_of_results.append(temp_dict)"
   ]
  },
  {
   "cell_type": "code",
   "execution_count": 86,
   "id": "4cc153fa",
   "metadata": {},
   "outputs": [],
   "source": [
    "results_df = pd.DataFrame(list_of_results)\n",
    "results_df.to_excel('check_results.xlsx')"
   ]
  },
  {
   "cell_type": "code",
   "execution_count": null,
   "id": "d3deb46c",
   "metadata": {},
   "outputs": [],
   "source": []
  }
 ],
 "metadata": {
  "kernelspec": {
   "display_name": "Python 3",
   "language": "python",
   "name": "python3"
  },
  "language_info": {
   "codemirror_mode": {
    "name": "ipython",
    "version": 3
   },
   "file_extension": ".py",
   "mimetype": "text/x-python",
   "name": "python",
   "nbconvert_exporter": "python",
   "pygments_lexer": "ipython3",
   "version": "3.12.10"
  }
 },
 "nbformat": 4,
 "nbformat_minor": 5
}
